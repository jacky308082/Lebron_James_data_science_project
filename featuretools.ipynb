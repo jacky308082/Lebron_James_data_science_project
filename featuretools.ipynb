{
 "cells": [
  {
   "cell_type": "code",
   "execution_count": 1,
   "metadata": {},
   "outputs": [
    {
     "name": "stdout",
     "output_type": "stream",
     "text": [
      "Collecting featuretools\n",
      "\u001b[?25l  Downloading https://files.pythonhosted.org/packages/3e/42/bd5484da6991cea6c696f1a12f910f8cc45445e1147e208dd6fe92f12a69/featuretools-0.3.0.tar.gz (142kB)\n",
      "\u001b[K    100% |████████████████████████████████| 143kB 655kB/s ta 0:00:01\n",
      "\u001b[?25hRequirement already satisfied: numpy>=1.13.3 in /Users/jacky/anaconda3/lib/python3.6/site-packages (from featuretools) (1.14.3)\n",
      "Requirement already satisfied: pandas>=0.23.0 in /Users/jacky/anaconda3/lib/python3.6/site-packages (from featuretools) (0.23.0)\n",
      "Collecting s3fs>=0.1.2 (from featuretools)\n",
      "\u001b[?25l  Downloading https://files.pythonhosted.org/packages/53/69/7e14a5a883a74a469b5edca792ff0eab168b4a0531e9f49f486c0e23ebfb/s3fs-0.1.6.tar.gz (45kB)\n",
      "\u001b[K    100% |████████████████████████████████| 51kB 718kB/s ta 0:00:01\n",
      "\u001b[?25hCollecting tqdm>=4.19.2 (from featuretools)\n",
      "\u001b[?25l  Downloading https://files.pythonhosted.org/packages/c7/e0/52b2faaef4fd87f86eb8a8f1afa2cd6eb11146822033e29c04ac48ada32c/tqdm-4.25.0-py2.py3-none-any.whl (43kB)\n",
      "\u001b[K    100% |████████████████████████████████| 51kB 673kB/s ta 0:00:01\n",
      "\u001b[?25hRequirement already satisfied: toolz>=0.8.2 in /Users/jacky/anaconda3/lib/python3.6/site-packages (from featuretools) (0.9.0)\n",
      "Requirement already satisfied: pyyaml>=3.12 in /Users/jacky/anaconda3/lib/python3.6/site-packages (from featuretools) (3.12)\n",
      "Requirement already satisfied: cloudpickle>=0.4.0 in /Users/jacky/anaconda3/lib/python3.6/site-packages (from featuretools) (0.5.3)\n",
      "Collecting future>=0.16.0 (from featuretools)\n",
      "\u001b[?25l  Downloading https://files.pythonhosted.org/packages/00/2b/8d082ddfed935f3608cc61140df6dcbf0edea1bc3ab52fb6c29ae3e81e85/future-0.16.0.tar.gz (824kB)\n",
      "\u001b[K    100% |████████████████████████████████| 829kB 696kB/s ta 0:00:01\n",
      "\u001b[?25hCollecting pympler>=0.5 (from featuretools)\n",
      "\u001b[?25l  Downloading https://files.pythonhosted.org/packages/d4/5b/73d780a6b3939a8a53fc6db85a8d9eb41be718e7185f6cea534dbd1e1657/Pympler-0.6.tar.gz (174kB)\n",
      "\u001b[K    100% |████████████████████████████████| 184kB 395kB/s ta 0:00:01\n",
      "\u001b[?25hRequirement already satisfied: dask>=0.17.5 in /Users/jacky/anaconda3/lib/python3.6/site-packages (from featuretools) (0.17.5)\n",
      "Requirement already satisfied: distributed>=1.21.8 in /Users/jacky/anaconda3/lib/python3.6/site-packages (from featuretools) (1.21.8)\n",
      "Requirement already satisfied: psutil in /Users/jacky/anaconda3/lib/python3.6/site-packages (from featuretools) (5.4.5)\n",
      "Requirement already satisfied: python-dateutil>=2.5.0 in /Users/jacky/anaconda3/lib/python3.6/site-packages (from pandas>=0.23.0->featuretools) (2.7.3)\n",
      "Requirement already satisfied: pytz>=2011k in /Users/jacky/anaconda3/lib/python3.6/site-packages (from pandas>=0.23.0->featuretools) (2018.4)\n",
      "Collecting botocore (from s3fs>=0.1.2->featuretools)\n",
      "\u001b[?25l  Downloading https://files.pythonhosted.org/packages/a9/3f/fecf78a1f4a495531eaab3cb386a33a32ae26371261bf39e030003dc05de/botocore-1.12.0-py2.py3-none-any.whl (4.7MB)\n",
      "\u001b[K    100% |████████████████████████████████| 4.7MB 714kB/s ta 0:00:01\n",
      "\u001b[?25hCollecting boto3 (from s3fs>=0.1.2->featuretools)\n",
      "\u001b[?25l  Downloading https://files.pythonhosted.org/packages/44/bf/e287410bc16b38b3e02853b7ca8af0f602a5075af5c8c77f50ec5339f034/boto3-1.9.0-py2.py3-none-any.whl (128kB)\n",
      "\u001b[K    100% |████████████████████████████████| 133kB 704kB/s ta 0:00:01\n",
      "\u001b[?25hRequirement already satisfied: tornado>=4.5.1 in /Users/jacky/anaconda3/lib/python3.6/site-packages (from distributed>=1.21.8->featuretools) (5.0.2)\n",
      "Requirement already satisfied: sortedcontainers in /Users/jacky/anaconda3/lib/python3.6/site-packages (from distributed>=1.21.8->featuretools) (1.5.10)\n",
      "Requirement already satisfied: click>=6.6 in /Users/jacky/anaconda3/lib/python3.6/site-packages (from distributed>=1.21.8->featuretools) (6.7)\n",
      "Requirement already satisfied: zict>=0.1.3 in /Users/jacky/anaconda3/lib/python3.6/site-packages (from distributed>=1.21.8->featuretools) (0.1.3)\n",
      "Collecting msgpack (from distributed>=1.21.8->featuretools)\n",
      "\u001b[?25l  Downloading https://files.pythonhosted.org/packages/f3/b6/9affbea179c3c03a0eb53515d9ce404809a122f76bee8fc8c6ec9497f51f/msgpack-0.5.6.tar.gz (138kB)\n",
      "\u001b[K    100% |████████████████████████████████| 143kB 591kB/s ta 0:00:011\n",
      "\u001b[?25hRequirement already satisfied: tblib in /Users/jacky/anaconda3/lib/python3.6/site-packages (from distributed>=1.21.8->featuretools) (1.3.2)\n",
      "Requirement already satisfied: six in /Users/jacky/anaconda3/lib/python3.6/site-packages (from distributed>=1.21.8->featuretools) (1.11.0)\n",
      "Requirement already satisfied: docutils>=0.10 in /Users/jacky/anaconda3/lib/python3.6/site-packages (from botocore->s3fs>=0.1.2->featuretools) (0.14)\n",
      "Requirement already satisfied: urllib3<1.24,>=1.20 in /Users/jacky/anaconda3/lib/python3.6/site-packages (from botocore->s3fs>=0.1.2->featuretools) (1.22)\n",
      "Collecting jmespath<1.0.0,>=0.7.1 (from botocore->s3fs>=0.1.2->featuretools)\n",
      "  Downloading https://files.pythonhosted.org/packages/b7/31/05c8d001f7f87f0f07289a5fc0fc3832e9a57f2dbd4d3b0fee70e0d51365/jmespath-0.9.3-py2.py3-none-any.whl\n",
      "Collecting s3transfer<0.2.0,>=0.1.10 (from boto3->s3fs>=0.1.2->featuretools)\n",
      "\u001b[?25l  Downloading https://files.pythonhosted.org/packages/d7/14/2a0004d487464d120c9fb85313a75cd3d71a7506955be458eebfe19a6b1d/s3transfer-0.1.13-py2.py3-none-any.whl (59kB)\n",
      "\u001b[K    100% |████████████████████████████████| 61kB 530kB/s ta 0:00:01\n",
      "\u001b[?25hRequirement already satisfied: heapdict in /Users/jacky/anaconda3/lib/python3.6/site-packages (from zict>=0.1.3->distributed>=1.21.8->featuretools) (1.0.0)\n",
      "Building wheels for collected packages: featuretools, s3fs, future, pympler, msgpack\n",
      "  Running setup.py bdist_wheel for featuretools ... \u001b[?25ldone\n",
      "\u001b[?25h  Stored in directory: /Users/jacky/Library/Caches/pip/wheels/d3/80/28/55542e24d99bc92c784cbd8880f26145cb5f4f06e2a423cb64\n",
      "  Running setup.py bdist_wheel for s3fs ... \u001b[?25ldone\n",
      "\u001b[?25h  Stored in directory: /Users/jacky/Library/Caches/pip/wheels/71/5d/ed/77e5b8e4a26dc4f5436f7b729f3de92eb7fa4febef04f2d042\n",
      "  Running setup.py bdist_wheel for future ... \u001b[?25ldone\n",
      "\u001b[?25h  Stored in directory: /Users/jacky/Library/Caches/pip/wheels/bf/c9/a3/c538d90ef17cf7823fa51fc701a7a7a910a80f6a405bf15b1a\n",
      "  Running setup.py bdist_wheel for pympler ... \u001b[?25ldone\n",
      "\u001b[?25h  Stored in directory: /Users/jacky/Library/Caches/pip/wheels/f7/33/29/02f848ccc7dbb272c8e0fa7e37f25cbdc3d16885106208f809\n",
      "  Running setup.py bdist_wheel for msgpack ... \u001b[?25ldone\n",
      "\u001b[?25h  Stored in directory: /Users/jacky/Library/Caches/pip/wheels/f0/02/4c/525b56fce78c415eb8066f6554f9de02792df26b8f882f6d65\n",
      "Successfully built featuretools s3fs future pympler msgpack\n",
      "Installing collected packages: jmespath, botocore, s3transfer, boto3, s3fs, tqdm, future, pympler, featuretools, msgpack\n",
      "Successfully installed boto3-1.9.0 botocore-1.12.0 featuretools-0.3.0 future-0.16.0 jmespath-0.9.3 msgpack-0.5.6 pympler-0.6 s3fs-0.1.6 s3transfer-0.1.13 tqdm-4.25.0\n"
     ]
    }
   ],
   "source": [
    "!pip install featuretools"
   ]
  },
  {
   "cell_type": "code",
   "execution_count": null,
   "metadata": {},
   "outputs": [],
   "source": []
  }
 ],
 "metadata": {
  "kernelspec": {
   "display_name": "Python 3",
   "language": "python",
   "name": "python3"
  },
  "language_info": {
   "codemirror_mode": {
    "name": "ipython",
    "version": 3
   },
   "file_extension": ".py",
   "mimetype": "text/x-python",
   "name": "python",
   "nbconvert_exporter": "python",
   "pygments_lexer": "ipython3",
   "version": "3.6.5"
  }
 },
 "nbformat": 4,
 "nbformat_minor": 2
}
